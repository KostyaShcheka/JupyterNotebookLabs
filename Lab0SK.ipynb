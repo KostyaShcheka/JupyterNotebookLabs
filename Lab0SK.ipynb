{
 "cells": [
  {
   "cell_type": "markdown",
   "id": "122f8517-5dc3-4d15-bf62-bf37bd90aa89",
   "metadata": {},
   "source": [
    "# Королівство Йорданія\n",
    "\n",
    "## Загальні відомості\n",
    "\n",
    "**<span style=\"color:red\">Йорданія</span>** (офіційна назва: _<span style=\"color:green\">Хашимітське Королівство Йорданія</span>_) — це країна на Близькому Сході.\n",
    "\n",
    "### Площа\n",
    "\n",
    "- Площа: **89 342 км²**  \n",
    "- Населення: **10,7 мільйонів** (станом на 2023 рік)\n",
    "\n",
    "## Державний устрій\n",
    "**Форма правління:** _Конституційна монархія_  \n",
    "Король Йорданії: **Абдалла II**.\n",
    "\n",
    "## Видатні персоналії\n",
    "\n",
    "1. **Король Абдалла II** - сучасний правитель Йорданії\n",
    "2. **Королева Ранія** - активістка з прав жінок та освіти\n",
    "3. **Лоуренс Аравійський** - британський військовий офіцер, що грав важливу роль під час Першої світової війни.\n",
    "\n",
    "## Пам'ятки культури та природи\n",
    "\n",
    "- **Петра** — стародавнє місто, одне з нових семи чудес світу.\n",
    "- **Мертве море** — унікальне солоне озеро, яке є найнижчою точкою на землі.\n",
    "- **Ваді Рам** — пустеля з унікальним пейзажем, популярне місце для зйомок фільмів.\n",
    "\n",
    "---\n",
    "\n",
    "<div style=\"border: 2px solid black; padding: 10px;\">\n",
    "<b>Цікаво знати:</b> Йорданія відома своєю гостинністю та багатою історією, що включає вплив римської, візантійської та арабської культур.\n",
    "</div>\n",
    "\n",
    "## Таблиця основної інформації\n",
    "\n",
    "| Показник         | Значення          |\n",
    "|------------------|-------------------|\n",
    "| Площа            | 89 342 км²        |\n",
    "| Населення        | 10,7 мільйонів    |\n",
    "| Офіційна мова    | Арабська          |\n",
    "| Столиця          | Амман             |\n",
    "| Грошова одиниця  | Йорданський динар |\n",
    "\n",
    "## Вкладені списки\n",
    "\n",
    "- **Міста Йорданії**:\n",
    "  - Амман (столиця)\n",
    "  - Ірбід\n",
    "  - Акаба\n",
    "- **Природні зони**:\n",
    "  - Мертве море\n",
    "  - Ваді Рам\n",
    "  - Національний парк Дана\n",
    "\n",
    "## Гіперпосилання\n",
    "- [Детальніше про Йорданію на Wikipedia](https://uk.wikipedia.org/wiki/%D0%99%D0%BE%D1%80%D0%B4%D0%B0%D0%BD%D1%96%D1%8F)\n",
    "\n",
    "## Картинки\n",
    "\n",
    "Вбудована картинка Йорданії:\n",
    "\n",
    "![Петра](https://upload.wikimedia.org/wikipedia/commons/thumb/6/62/Al_Khazneh_Petra_edit_2.jpg/179px-Al_Khazneh_Petra_edit_2.jpg)\n",
    "\n",
    "Картинка за посиланням:\n",
    "\n",
    "[Мертве море](https://upload.wikimedia.org/wikipedia/commons/thumb/e/ea/Dead_Sea%2C_Jordan_01.jpg/400px-Dead_Sea%2C_Jordan_01.jpg)\n",
    "\n"
   ]
  },
  {
   "cell_type": "code",
   "execution_count": 34,
   "id": "eb3f96f6-765b-4099-bcce-53cffc3e3cc1",
   "metadata": {},
   "outputs": [
    {
     "data": {
      "image/svg+xml": [
       "<svg xmlns=\"http://www.w3.org/2000/svg\" width=\"300\" height=\"150\">\n",
       "  <!-- Чорна смуга -->\n",
       "  <rect width=\"300\" height=\"50\" fill=\"black\"/>\n",
       "  <!-- Біла смуга -->\n",
       "  <rect y=\"50\" width=\"300\" height=\"50\" fill=\"white\"/>\n",
       "  <!-- Зелена смуга -->\n",
       "  <rect y=\"100\" width=\"300\" height=\"50\" fill=\"green\"/>\n",
       "  <!-- Червоний трикутник -->\n",
       "  <polygon points=\"0,0 100,75 0,150\" fill=\"red\"/>\n",
       "  <!-- Біла семикутна зірка -->\n",
       "  <circle cx=\"30\" cy=\"75\" r=\"7\" fill=\"white\"/>\n",
       "</svg>"
      ],
      "text/plain": [
       "<IPython.core.display.SVG object>"
      ]
     },
     "metadata": {},
     "output_type": "display_data"
    }
   ],
   "source": [
    "from IPython.display import SVG, display\n",
    "\n",
    "svg_code = '''\n",
    "<svg width=\"300\" height=\"150\" xmlns=\"http://www.w3.org/2000/svg\">\n",
    "  <!-- Чорна смуга -->\n",
    "  <rect width=\"300\" height=\"50\" fill=\"black\"/>\n",
    "  <!-- Біла смуга -->\n",
    "  <rect y=\"50\" width=\"300\" height=\"50\" fill=\"white\"/>\n",
    "  <!-- Зелена смуга -->\n",
    "  <rect y=\"100\" width=\"300\" height=\"50\" fill=\"green\"/>\n",
    "  <!-- Червоний трикутник -->\n",
    "  <polygon points=\"0,0 100,75 0,150\" fill=\"red\"/>\n",
    "  <!-- Біла семикутна зірка -->\n",
    "  <circle cx=\"30\" cy=\"75\" r=\"7\" fill=\"white\"/>\n",
    "</svg>\n",
    "'''\n",
    "display(SVG(svg_code))\n"
   ]
  },
  {
   "cell_type": "code",
   "execution_count": 1,
   "id": "5f40e80e-dde1-4ac8-a1bc-d4864d8e32c9",
   "metadata": {
    "scrolled": true
   },
   "outputs": [
    {
     "name": "stdin",
     "output_type": "stream",
     "text": [
      "Введіть число a:  9\n",
      "Введіть число b:  10\n"
     ]
    },
    {
     "name": "stdout",
     "output_type": "stream",
     "text": [
      "На відрізку [9, 10] немає простих чисел.\n"
     ]
    }
   ],
   "source": [
    "def is_prime(n):\n",
    "    if n < 2:\n",
    "        return False\n",
    "    for i in range(2, int(n**0.5) + 1):\n",
    "        if n % i == 0:\n",
    "            return False\n",
    "    return True\n",
    "\n",
    "def primes_in_range(a, b):\n",
    "    primes = []\n",
    "    for num in range(a, b + 1):\n",
    "        if is_prime(num):\n",
    "            primes.append(num)\n",
    "    return primes\n",
    "\n",
    "a = int(input(\"Введіть число a: \"))\n",
    "b = int(input(\"Введіть число b: \"))\n",
    "\n",
    "prime_numbers = primes_in_range(a, b)\n",
    "\n",
    "if prime_numbers:\n",
    "    print(f\"Прості числа на відрізку [{a}, {b}]: {prime_numbers}\")\n",
    "else:\n",
    "    print(f\"На відрізку [{a}, {b}] немає простих чисел.\")\n"
   ]
  },
  {
   "cell_type": "code",
   "execution_count": null,
   "id": "2630570f-4efd-4b7d-8146-780bbbdea744",
   "metadata": {},
   "outputs": [],
   "source": []
  }
 ],
 "metadata": {
  "kernelspec": {
   "display_name": "Python 3 (ipykernel)",
   "language": "python",
   "name": "python3"
  },
  "language_info": {
   "codemirror_mode": {
    "name": "ipython",
    "version": 3
   },
   "file_extension": ".py",
   "mimetype": "text/x-python",
   "name": "python",
   "nbconvert_exporter": "python",
   "pygments_lexer": "ipython3",
   "version": "3.12.4"
  }
 },
 "nbformat": 4,
 "nbformat_minor": 5
}
